{
  "cells": [
    {
      "cell_type": "markdown",
      "metadata": {
        "id": "view-in-github",
        "colab_type": "text"
      },
      "source": [
        "<a href=\"https://colab.research.google.com/github/CDeGrazia/CDeGrazia.github.io/blob/main/GD4_Copy_of_COP1000_Graded_Notebook_4.ipynb\" target=\"_parent\"><img src=\"https://colab.research.google.com/assets/colab-badge.svg\" alt=\"Open In Colab\"/></a>"
      ]
    },
    {
      "cell_type": "markdown",
      "metadata": {
        "id": "Bw07pWSBb05w"
      },
      "source": [
        "# Graded Notebook 4\n",
        "* **Possible 155 points out of 100.**\n",
        "\n",
        "* Your name here: Colin DeGrazia\n",
        "* The shared link to this notebook here: \n",
        "https://colab.research.google.com/drive/1ypJB9iomI8iUOH-q-FLjMlRPncvGuz4t?usp=sharing"
      ]
    },
    {
      "cell_type": "markdown",
      "metadata": {
        "id": "8DYnUTSsb4Wg"
      },
      "source": [
        "## **Task 1** (60 points possible)\n",
        "*  use the random module to generate a random number, prompt the user for a guess at the number until the user guesses the number. When the guess is too high, let the user know, when too low let them know, and when they guess it let them know it was correct and in how many guesses.\n",
        "\n",
        "    * Comments and code organization are expected to adhere to the requirements discussed in the course. **10 pts**\n",
        "    *  While loop funtions as expected **10 pts**\n",
        "    *  random number generated as expected **10**\n",
        "    *  Outputs meet expectations  **20 pts**\n",
        "    *  Use a main method with a conditional that checks to see if a main method exists **bonus 10 pts**"
      ]
    },
    {
      "cell_type": "code",
      "execution_count": null,
      "metadata": {
        "colab": {
          "base_uri": "https://localhost:8080/"
        },
        "id": "pLJxf2GR-ued",
        "outputId": "8c0a742f-dcda-4a19-e23a-452e80fd5437"
      },
      "outputs": [
        {
          "name": "stdout",
          "output_type": "stream",
          "text": [
            "Guess a number between 1 and 100.\n",
            "Enter your guess: 50\n",
            "Too high. Guess again.\n",
            "Enter your guess: 25\n",
            "Too high. Guess again.\n",
            "Enter your guess: 20\n",
            "Too high. Guess again.\n",
            "Enter your guess: 15\n",
            "Too high. Guess again.\n",
            "Enter your guess: 10\n",
            "Too high. Guess again.\n",
            "Enter your guess: 5\n",
            "Too low. Guess again.\n",
            "Enter your guess: 6\n",
            "Correct! You guessed the number in 7 guesses.\n"
          ]
        }
      ],
      "source": [
        "# Your code here (Task 1)\n",
        "import random\n",
        "\n",
        "def main():\n",
        "    print(\"Guess a number between 1 and 100.\")\n",
        "    random_number = random.randint(1, 100)\n",
        "    num_guesses = 0\n",
        "    while True:\n",
        "        num_guesses += 1\n",
        "        user_guess = int(input(\"Enter your guess: \"))\n",
        "        if user_guess == random_number:\n",
        "            print(f\"Correct! You guessed the number in {num_guesses} guesses.\")\n",
        "            break\n",
        "        elif user_guess < random_number:\n",
        "            print(\"Too low. Guess again.\")\n",
        "        else:\n",
        "            print(\"Too high. Guess again.\")\n",
        "\n",
        "if __name__ == \"__main__\":\n",
        "    main()\n",
        "\n"
      ]
    },
    {
      "cell_type": "markdown",
      "metadata": {
        "id": "B-i2P3ri4js3"
      },
      "source": [
        "## **Task 2** (60 points possible)\n",
        "* use the Starter code below. diplay the first 20 records in the DataFrame.\n",
        "* in the cell provided display info about the columns in the dataframe\n",
        "* in the cell provided remove row # 72 that has an income of 22.93\n",
        "* in the cell provided remove column 'Married'\n",
        "* **Bonus points** Reshape the data in the gender column to an integer 1 for Male or 0 Female\n",
        "\n",
        "    *  first 20 records(rows)  **10 pts**\n",
        "    *  display info about the columns **10 pts**\n",
        "    *  Remove row number 72 **10**\n",
        "    *  Remove the Married column  **10 pts**\n",
        "    *  Reshape the data in the gender column to an integer 1 for Male or 0 Female**bonus 20 pts**"
      ]
    },
    {
      "cell_type": "code",
      "execution_count": 5,
      "metadata": {
        "id": "hA-p1pdI5HDK",
        "colab": {
          "base_uri": "https://localhost:8080/"
        },
        "outputId": "7fa99ebf-ae41-441e-86f1-3e59a5c9527e"
      },
      "outputs": [
        {
          "output_type": "stream",
          "name": "stdout",
          "text": [
            "     Income  Limit  Rating  Cards  Age  Education  Gender Student Married  \\\n",
            "0    14.891   3606     283      2   34         11    Male      No     Yes   \n",
            "1   106.025   6645     483      3   82         15  Female     Yes     Yes   \n",
            "2   104.593   7075     514      4   71         11    Male      No      No   \n",
            "3   148.924   9504     681      3   36         11  Female      No      No   \n",
            "4    55.882   4897     357      2   68         16    Male      No     Yes   \n",
            "5    80.180   8047     569      4   77         10    Male      No      No   \n",
            "6    20.996   3388     259      2   37         12  Female      No      No   \n",
            "7    71.408   7114     512      2   87          9    Male      No      No   \n",
            "8    15.125   3300     266      5   66         13  Female      No      No   \n",
            "9    71.061   6819     491      3   41         19  Female     Yes     Yes   \n",
            "10   63.095   8117     589      4   30         14    Male      No     Yes   \n",
            "11   15.045   1311     138      3   64         16    Male      No      No   \n",
            "12   80.616   5308     394      1   57          7  Female      No     Yes   \n",
            "13   43.682   6922     511      1   49          9    Male      No     Yes   \n",
            "14   19.144   3291     269      2   75         13  Female      No      No   \n",
            "15   20.089   2525     200      3   57         15  Female      No     Yes   \n",
            "16   53.598   3714     286      3   73         17  Female      No     Yes   \n",
            "17   36.496   4378     339      3   69         15  Female      No     Yes   \n",
            "18   49.570   6384     448      1   28          9  Female      No     Yes   \n",
            "19   42.079   6626     479      2   44          9    Male      No      No   \n",
            "\n",
            "    Balance  \n",
            "0       333  \n",
            "1       903  \n",
            "2       580  \n",
            "3       964  \n",
            "4       331  \n",
            "5      1151  \n",
            "6       203  \n",
            "7       872  \n",
            "8       279  \n",
            "9      1350  \n",
            "10     1407  \n",
            "11        0  \n",
            "12      204  \n",
            "13     1081  \n",
            "14      148  \n",
            "15        0  \n",
            "16        0  \n",
            "17      368  \n",
            "18      891  \n",
            "19     1048  \n"
          ]
        }
      ],
      "source": [
        "# Import pandas package\n",
        "import pandas as pd\n",
        "\n",
        "# starter code\n",
        "\n",
        "url= \"https://drive.google.com/file/d/1UqAoosxMF5MxhlvAfgxtOhteFiQGpMpe/view?usp=sharing\"\n",
        "url='https://drive.google.com/uc?id=' + url.split('/')[-2]\n",
        "\n",
        "Credit_df = pd.read_csv(url)\n",
        "\n",
        "# your code here to display first 20 records(rows) in the dataframe\n",
        "print(Credit_df.head(20))"
      ]
    },
    {
      "cell_type": "code",
      "execution_count": 6,
      "metadata": {
        "id": "sjSBsQje5jnJ",
        "colab": {
          "base_uri": "https://localhost:8080/"
        },
        "outputId": "8fb20118-5d12-44cc-81b0-205e68b92885"
      },
      "outputs": [
        {
          "output_type": "stream",
          "name": "stdout",
          "text": [
            "<class 'pandas.core.frame.DataFrame'>\n",
            "RangeIndex: 400 entries, 0 to 399\n",
            "Data columns (total 10 columns):\n",
            " #   Column     Non-Null Count  Dtype  \n",
            "---  ------     --------------  -----  \n",
            " 0   Income     400 non-null    float64\n",
            " 1   Limit      400 non-null    int64  \n",
            " 2   Rating     400 non-null    int64  \n",
            " 3   Cards      400 non-null    int64  \n",
            " 4   Age        400 non-null    int64  \n",
            " 5   Education  400 non-null    int64  \n",
            " 6   Gender     400 non-null    object \n",
            " 7   Student    400 non-null    object \n",
            " 8   Married    400 non-null    object \n",
            " 9   Balance    400 non-null    int64  \n",
            "dtypes: float64(1), int64(6), object(3)\n",
            "memory usage: 31.4+ KB\n",
            "None\n"
          ]
        }
      ],
      "source": [
        "# your code here to display info about the columns in the dataframe\n",
        "import pandas as pd\n",
        "\n",
        "# Load data from CSV file\n",
        "url = \"https://drive.google.com/file/d/1UqAoosxMF5MxhlvAfgxtOhteFiQGpMpe/view?usp=sharing\"\n",
        "url = 'https://drive.google.com/uc?id=' + url.split('/')[-2]\n",
        "Credit_df = pd.read_csv(url)\n",
        "\n",
        "# Display information about the columns in the DataFrame\n",
        "print(Credit_df.info())\n"
      ]
    },
    {
      "cell_type": "code",
      "execution_count": 7,
      "metadata": {
        "id": "JG0Xno6-5w9A",
        "colab": {
          "base_uri": "https://localhost:8080/"
        },
        "outputId": "a15bd9ca-8732-4a06-926b-bd8dac2f8acc"
      },
      "outputs": [
        {
          "output_type": "stream",
          "name": "stdout",
          "text": [
            "    Income  Limit  Rating  Cards  Age  Education  Gender Student Married  \\\n",
            "0   14.891   3606     283      2   34         11    Male      No     Yes   \n",
            "1  106.025   6645     483      3   82         15  Female     Yes     Yes   \n",
            "2  104.593   7075     514      4   71         11    Male      No      No   \n",
            "3  148.924   9504     681      3   36         11  Female      No      No   \n",
            "4   55.882   4897     357      2   68         16    Male      No     Yes   \n",
            "\n",
            "   Balance  \n",
            "0      333  \n",
            "1      903  \n",
            "2      580  \n",
            "3      964  \n",
            "4      331  \n"
          ]
        }
      ],
      "source": [
        "# Your code here to remove row # 72 that has an income of 22.939\n",
        "import pandas as pd\n",
        "\n",
        "# Load data from CSV file\n",
        "url = \"https://drive.google.com/file/d/1UqAoosxMF5MxhlvAfgxtOhteFiQGpMpe/view?usp=sharing\"\n",
        "url = 'https://drive.google.com/uc?id=' + url.split('/')[-2]\n",
        "Credit_df = pd.read_csv(url)\n",
        "\n",
        "# Remove row # 72 from the DataFrame\n",
        "Credit_df = Credit_df.drop(index=71)\n",
        "\n",
        "# Display the first 5 records in the updated DataFrame\n",
        "print(Credit_df.head())\n"
      ]
    },
    {
      "cell_type": "code",
      "execution_count": 10,
      "metadata": {
        "id": "x-bSkdJX5622",
        "colab": {
          "base_uri": "https://localhost:8080/"
        },
        "outputId": "32a7fa6e-40d6-40c2-b502-3b9530cf8e0d"
      },
      "outputs": [
        {
          "output_type": "stream",
          "name": "stdout",
          "text": [
            "    Income  Limit  Rating  Cards  Age  Education  Gender Student  Balance\n",
            "0   14.891   3606     283      2   34         11    Male      No      333\n",
            "1  106.025   6645     483      3   82         15  Female     Yes      903\n",
            "2  104.593   7075     514      4   71         11    Male      No      580\n",
            "3  148.924   9504     681      3   36         11  Female      No      964\n",
            "4   55.882   4897     357      2   68         16    Male      No      331\n"
          ]
        }
      ],
      "source": [
        "# Your code here to remove column 'Married'\n",
        "import pandas as pd\n",
        "\n",
        "# Load data from CSV file\n",
        "url = \"https://drive.google.com/file/d/1UqAoosxMF5MxhlvAfgxtOhteFiQGpMpe/view?usp=sharing\"\n",
        "url = 'https://drive.google.com/uc?id=' + url.split('/')[-2]\n",
        "Credit_df = pd.read_csv(url)\n",
        "\n",
        "# Remove the 'Married' column from the DataFrame\n",
        "Credit_df = Credit_df.drop('Married', axis=1)\n",
        "\n",
        "# Display the first 5 records in the updated DataFrame\n",
        "print(Credit_df.head())\n"
      ]
    },
    {
      "cell_type": "code",
      "execution_count": 11,
      "metadata": {
        "id": "sNU9DEVY6iVT",
        "colab": {
          "base_uri": "https://localhost:8080/"
        },
        "outputId": "19049a1d-9c13-43f3-bbdd-b18d7332d332"
      },
      "outputs": [
        {
          "output_type": "stream",
          "name": "stdout",
          "text": [
            "    Income  Limit  Rating  Cards  Age  Education  Gender Student Married  \\\n",
            "0   14.891   3606     283      2   34         11       1      No     Yes   \n",
            "1  106.025   6645     483      3   82         15       0     Yes     Yes   \n",
            "2  104.593   7075     514      4   71         11       1      No      No   \n",
            "3  148.924   9504     681      3   36         11       0      No      No   \n",
            "4   55.882   4897     357      2   68         16       1      No     Yes   \n",
            "\n",
            "   Balance  \n",
            "0      333  \n",
            "1      903  \n",
            "2      580  \n",
            "3      964  \n",
            "4      331  \n"
          ]
        }
      ],
      "source": [
        "# Bonus points Reshape the data in the gender column to an integer 1 for Male or 0 Female\n",
        "import pandas as pd\n",
        "\n",
        "# Load data from CSV file\n",
        "url = \"https://drive.google.com/file/d/1UqAoosxMF5MxhlvAfgxtOhteFiQGpMpe/view?usp=sharing\"\n",
        "url = 'https://drive.google.com/uc?id=' + url.split('/')[-2]\n",
        "Credit_df = pd.read_csv(url)\n",
        "\n",
        "# Reshape the data in the 'Gender' column to 1 for Male or 0 for Female\n",
        "Credit_df['Gender'] = Credit_df['Gender'].apply(lambda x: 1 if x == 'Male' else 0)\n",
        "\n",
        "# Display the first 5 records in the updated DataFrame\n",
        "print(Credit_df.head())\n"
      ]
    },
    {
      "cell_type": "markdown",
      "metadata": {
        "id": "Dr-4sMsg8exv"
      },
      "source": [
        "## **Task 3** (35 possible)\n",
        "* Use the time.perf_counter or timeit module to track the performance of the  loop in the code block provided below.\n",
        "* **Bonus points** perform same task as above using cProfile and clear output of each displayed line before a new print() is called.\n",
        "\n",
        "    *  performance measured  **10 pts**\n",
        "    *  use cProfile to performe the same task above 20000 times in the code block provided**bonus 20 pts**\n",
        "    * clear each output line when the next line is displayed. **bonus 5 pts**"
      ]
    },
    {
      "cell_type": "code",
      "execution_count": 1,
      "metadata": {
        "colab": {
          "base_uri": "https://localhost:8080/"
        },
        "id": "9eW8NulH9WWK",
        "outputId": "63fd2e34-49ee-415a-dada-de355ede5e61"
      },
      "outputs": [
        {
          "output_type": "stream",
          "name": "stdout",
          "text": [
            "Execution time: 0.01306 seconds\n"
          ]
        }
      ],
      "source": [
        "import time\n",
        "\n",
        "start_time = time.perf_counter()\n",
        "\n",
        "# Code block to measure performance\n",
        "for i in range(100000):\n",
        "    pass\n",
        "\n",
        "end_time = time.perf_counter()\n",
        "\n",
        "print(f\"Execution time: {end_time - start_time:.5f} seconds\")\n"
      ]
    },
    {
      "cell_type": "code",
      "execution_count": 9,
      "metadata": {
        "id": "wFH3Wiua9slM"
      },
      "outputs": [],
      "source": [
        "# use cProfile to performe the same task above 20000 times\n",
        "import cProfile\n",
        "from IPython.display import clear_output\n",
        "import cProfile\n",
        "\n",
        "def loop(n):\n",
        "    for i in range(n):\n",
        "        pass\n",
        "\n",
        "cProfile.run('loop(20000)', filename='profiling_data.txt')\n",
        "\n"
      ]
    }
  ],
  "metadata": {
    "colab": {
      "provenance": [],
      "include_colab_link": true
    },
    "gpuClass": "premium",
    "kernelspec": {
      "display_name": "Python 3",
      "name": "python3"
    },
    "language_info": {
      "name": "python"
    }
  },
  "nbformat": 4,
  "nbformat_minor": 0
}